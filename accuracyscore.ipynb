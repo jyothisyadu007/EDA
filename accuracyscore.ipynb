{
 "cells": [
  {
   "cell_type": "code",
   "execution_count": 47,
   "id": "distinct-plant",
   "metadata": {},
   "outputs": [],
   "source": [
    "import pandas as pd\n",
    "from sklearn.model_selection import train_test_split\n",
    "from sklearn.linear_model import LogisticRegression\n",
    "import numpy as np\n",
    "from sklearn.metrics import accuracy_score,confusion_matrix,precision_score,recall_score\n",
    "import seaborn as sns\n",
    "import statsmodels.api as sm"
   ]
  },
  {
   "cell_type": "code",
   "execution_count": 19,
   "id": "narrative-muscle",
   "metadata": {},
   "outputs": [],
   "source": [
    "df=pd.read_excel(r'D:\\ims proschool\\python\\Dataset.xlsx',engine='openpyxl')"
   ]
  },
  {
   "cell_type": "code",
   "execution_count": 20,
   "id": "intensive-thanks",
   "metadata": {},
   "outputs": [
    {
     "data": {
      "text/plain": [
       "Index(['Age', 'Subscription', 'Unnamed: 2', 'Unnamed: 3', 'Unnamed: 4',\n",
       "       'Unnamed: 5', 'Unnamed: 6', 'Unnamed: 7', 'Unnamed: 8', 'Unnamed: 9',\n",
       "       'Unnamed: 10'],\n",
       "      dtype='object')"
      ]
     },
     "execution_count": 20,
     "metadata": {},
     "output_type": "execute_result"
    }
   ],
   "source": [
    "df.columns"
   ]
  },
  {
   "cell_type": "code",
   "execution_count": 21,
   "id": "rocky-lightning",
   "metadata": {},
   "outputs": [
    {
     "data": {
      "text/html": [
       "<div>\n",
       "<style scoped>\n",
       "    .dataframe tbody tr th:only-of-type {\n",
       "        vertical-align: middle;\n",
       "    }\n",
       "\n",
       "    .dataframe tbody tr th {\n",
       "        vertical-align: top;\n",
       "    }\n",
       "\n",
       "    .dataframe thead th {\n",
       "        text-align: right;\n",
       "    }\n",
       "</style>\n",
       "<table border=\"1\" class=\"dataframe\">\n",
       "  <thead>\n",
       "    <tr style=\"text-align: right;\">\n",
       "      <th></th>\n",
       "      <th>Age</th>\n",
       "      <th>Subscription</th>\n",
       "      <th>Unnamed: 2</th>\n",
       "      <th>Unnamed: 3</th>\n",
       "      <th>Unnamed: 4</th>\n",
       "      <th>Unnamed: 5</th>\n",
       "      <th>Unnamed: 6</th>\n",
       "      <th>Unnamed: 7</th>\n",
       "      <th>Unnamed: 8</th>\n",
       "      <th>Unnamed: 9</th>\n",
       "      <th>Unnamed: 10</th>\n",
       "    </tr>\n",
       "  </thead>\n",
       "  <tbody>\n",
       "    <tr>\n",
       "      <th>0</th>\n",
       "      <td>62</td>\n",
       "      <td>1</td>\n",
       "      <td>-0.6742</td>\n",
       "      <td>0.509564</td>\n",
       "      <td>0.337557</td>\n",
       "      <td>NaN</td>\n",
       "      <td>NaN</td>\n",
       "      <td>NaN</td>\n",
       "      <td>NaN</td>\n",
       "      <td>NaN</td>\n",
       "      <td>NaN</td>\n",
       "    </tr>\n",
       "    <tr>\n",
       "      <th>1</th>\n",
       "      <td>18</td>\n",
       "      <td>0</td>\n",
       "      <td>-0.8106</td>\n",
       "      <td>0.444591</td>\n",
       "      <td>0.307763</td>\n",
       "      <td>NaN</td>\n",
       "      <td>NaN</td>\n",
       "      <td>NaN</td>\n",
       "      <td>NaN</td>\n",
       "      <td>NaN</td>\n",
       "      <td>NaN</td>\n",
       "    </tr>\n",
       "    <tr>\n",
       "      <th>2</th>\n",
       "      <td>40</td>\n",
       "      <td>0</td>\n",
       "      <td>-0.7424</td>\n",
       "      <td>0.475970</td>\n",
       "      <td>0.322480</td>\n",
       "      <td>NaN</td>\n",
       "      <td>NaN</td>\n",
       "      <td>NaN</td>\n",
       "      <td>NaN</td>\n",
       "      <td>NaN</td>\n",
       "      <td>NaN</td>\n",
       "    </tr>\n",
       "    <tr>\n",
       "      <th>3</th>\n",
       "      <td>51</td>\n",
       "      <td>1</td>\n",
       "      <td>-0.7083</td>\n",
       "      <td>0.492481</td>\n",
       "      <td>0.329975</td>\n",
       "      <td>NaN</td>\n",
       "      <td>NaN</td>\n",
       "      <td>NaN</td>\n",
       "      <td>NaN</td>\n",
       "      <td>NaN</td>\n",
       "      <td>NaN</td>\n",
       "    </tr>\n",
       "    <tr>\n",
       "      <th>4</th>\n",
       "      <td>37</td>\n",
       "      <td>1</td>\n",
       "      <td>-0.7517</td>\n",
       "      <td>0.471564</td>\n",
       "      <td>0.320451</td>\n",
       "      <td>NaN</td>\n",
       "      <td>NaN</td>\n",
       "      <td>NaN</td>\n",
       "      <td>NaN</td>\n",
       "      <td>NaN</td>\n",
       "      <td>NaN</td>\n",
       "    </tr>\n",
       "    <tr>\n",
       "      <th>5</th>\n",
       "      <td>47</td>\n",
       "      <td>1</td>\n",
       "      <td>-0.7207</td>\n",
       "      <td>0.486412</td>\n",
       "      <td>0.327239</td>\n",
       "      <td>NaN</td>\n",
       "      <td>NaN</td>\n",
       "      <td>NaN</td>\n",
       "      <td>NaN</td>\n",
       "      <td>NaN</td>\n",
       "      <td>NaN</td>\n",
       "    </tr>\n",
       "    <tr>\n",
       "      <th>6</th>\n",
       "      <td>32</td>\n",
       "      <td>0</td>\n",
       "      <td>-0.7672</td>\n",
       "      <td>0.464311</td>\n",
       "      <td>0.317085</td>\n",
       "      <td>NaN</td>\n",
       "      <td>NaN</td>\n",
       "      <td>NaN</td>\n",
       "      <td>NaN</td>\n",
       "      <td>NaN</td>\n",
       "      <td>NaN</td>\n",
       "    </tr>\n",
       "    <tr>\n",
       "      <th>7</th>\n",
       "      <td>49</td>\n",
       "      <td>1</td>\n",
       "      <td>-0.7145</td>\n",
       "      <td>0.489437</td>\n",
       "      <td>0.328605</td>\n",
       "      <td>NaN</td>\n",
       "      <td>NaN</td>\n",
       "      <td>NaN</td>\n",
       "      <td>NaN</td>\n",
       "      <td>NaN</td>\n",
       "      <td>NaN</td>\n",
       "    </tr>\n",
       "    <tr>\n",
       "      <th>8</th>\n",
       "      <td>55</td>\n",
       "      <td>1</td>\n",
       "      <td>-0.6959</td>\n",
       "      <td>0.498625</td>\n",
       "      <td>0.332722</td>\n",
       "      <td>NaN</td>\n",
       "      <td>NaN</td>\n",
       "      <td>NaN</td>\n",
       "      <td>NaN</td>\n",
       "      <td>NaN</td>\n",
       "      <td>NaN</td>\n",
       "    </tr>\n",
       "    <tr>\n",
       "      <th>9</th>\n",
       "      <td>52</td>\n",
       "      <td>1</td>\n",
       "      <td>-0.7052</td>\n",
       "      <td>0.494010</td>\n",
       "      <td>0.330660</td>\n",
       "      <td>NaN</td>\n",
       "      <td>NaN</td>\n",
       "      <td>NaN</td>\n",
       "      <td>NaN</td>\n",
       "      <td>NaN</td>\n",
       "      <td>NaN</td>\n",
       "    </tr>\n",
       "    <tr>\n",
       "      <th>10</th>\n",
       "      <td>52</td>\n",
       "      <td>1</td>\n",
       "      <td>-0.7052</td>\n",
       "      <td>0.494010</td>\n",
       "      <td>0.330660</td>\n",
       "      <td>NaN</td>\n",
       "      <td>NaN</td>\n",
       "      <td>NaN</td>\n",
       "      <td>NaN</td>\n",
       "      <td>NaN</td>\n",
       "      <td>NaN</td>\n",
       "    </tr>\n",
       "    <tr>\n",
       "      <th>11</th>\n",
       "      <td>33</td>\n",
       "      <td>1</td>\n",
       "      <td>-0.7641</td>\n",
       "      <td>0.465753</td>\n",
       "      <td>0.317757</td>\n",
       "      <td>NaN</td>\n",
       "      <td>NaN</td>\n",
       "      <td>NaN</td>\n",
       "      <td>NaN</td>\n",
       "      <td>NaN</td>\n",
       "      <td>NaN</td>\n",
       "    </tr>\n",
       "    <tr>\n",
       "      <th>12</th>\n",
       "      <td>41</td>\n",
       "      <td>0</td>\n",
       "      <td>-0.7393</td>\n",
       "      <td>0.477448</td>\n",
       "      <td>0.323157</td>\n",
       "      <td>NaN</td>\n",
       "      <td>NaN</td>\n",
       "      <td>NaN</td>\n",
       "      <td>NaN</td>\n",
       "      <td>NaN</td>\n",
       "      <td>NaN</td>\n",
       "    </tr>\n",
       "    <tr>\n",
       "      <th>13</th>\n",
       "      <td>44</td>\n",
       "      <td>0</td>\n",
       "      <td>-0.7300</td>\n",
       "      <td>0.481909</td>\n",
       "      <td>0.325195</td>\n",
       "      <td>NaN</td>\n",
       "      <td>NaN</td>\n",
       "      <td>NaN</td>\n",
       "      <td>NaN</td>\n",
       "      <td>NaN</td>\n",
       "      <td>NaN</td>\n",
       "    </tr>\n",
       "    <tr>\n",
       "      <th>14</th>\n",
       "      <td>51</td>\n",
       "      <td>1</td>\n",
       "      <td>-0.7083</td>\n",
       "      <td>0.492481</td>\n",
       "      <td>0.329975</td>\n",
       "      <td>NaN</td>\n",
       "      <td>NaN</td>\n",
       "      <td>NaN</td>\n",
       "      <td>NaN</td>\n",
       "      <td>NaN</td>\n",
       "      <td>NaN</td>\n",
       "    </tr>\n",
       "    <tr>\n",
       "      <th>15</th>\n",
       "      <td>52</td>\n",
       "      <td>1</td>\n",
       "      <td>-0.7052</td>\n",
       "      <td>0.494010</td>\n",
       "      <td>0.330660</td>\n",
       "      <td>NaN</td>\n",
       "      <td>NaN</td>\n",
       "      <td>NaN</td>\n",
       "      <td>NaN</td>\n",
       "      <td>NaN</td>\n",
       "      <td>NaN</td>\n",
       "    </tr>\n",
       "    <tr>\n",
       "      <th>16</th>\n",
       "      <td>36</td>\n",
       "      <td>0</td>\n",
       "      <td>-0.7548</td>\n",
       "      <td>0.470105</td>\n",
       "      <td>0.319776</td>\n",
       "      <td>NaN</td>\n",
       "      <td>NaN</td>\n",
       "      <td>NaN</td>\n",
       "      <td>NaN</td>\n",
       "      <td>NaN</td>\n",
       "      <td>NaN</td>\n",
       "    </tr>\n",
       "    <tr>\n",
       "      <th>17</th>\n",
       "      <td>35</td>\n",
       "      <td>0</td>\n",
       "      <td>-0.7579</td>\n",
       "      <td>0.468650</td>\n",
       "      <td>0.319102</td>\n",
       "      <td>NaN</td>\n",
       "      <td>NaN</td>\n",
       "      <td>NaN</td>\n",
       "      <td>NaN</td>\n",
       "      <td>Slope</td>\n",
       "      <td>0.0031</td>\n",
       "    </tr>\n",
       "    <tr>\n",
       "      <th>18</th>\n",
       "      <td>30</td>\n",
       "      <td>0</td>\n",
       "      <td>-0.7734</td>\n",
       "      <td>0.461441</td>\n",
       "      <td>0.315744</td>\n",
       "      <td>NaN</td>\n",
       "      <td>NaN</td>\n",
       "      <td>NaN</td>\n",
       "      <td>NaN</td>\n",
       "      <td>Intercept</td>\n",
       "      <td>-0.8664</td>\n",
       "    </tr>\n",
       "    <tr>\n",
       "      <th>19</th>\n",
       "      <td>39</td>\n",
       "      <td>0</td>\n",
       "      <td>-0.7455</td>\n",
       "      <td>0.474497</td>\n",
       "      <td>0.321803</td>\n",
       "      <td>NaN</td>\n",
       "      <td>NaN</td>\n",
       "      <td>NaN</td>\n",
       "      <td>NaN</td>\n",
       "      <td>NaN</td>\n",
       "      <td>NaN</td>\n",
       "    </tr>\n",
       "    <tr>\n",
       "      <th>20</th>\n",
       "      <td>1</td>\n",
       "      <td>1</td>\n",
       "      <td>-0.8633</td>\n",
       "      <td>0.421768</td>\n",
       "      <td>0.296650</td>\n",
       "      <td>NaN</td>\n",
       "      <td>NaN</td>\n",
       "      <td>NaN</td>\n",
       "      <td>NaN</td>\n",
       "      <td>NaN</td>\n",
       "      <td>NaN</td>\n",
       "    </tr>\n",
       "    <tr>\n",
       "      <th>21</th>\n",
       "      <td>75</td>\n",
       "      <td>0</td>\n",
       "      <td>-0.6339</td>\n",
       "      <td>0.530519</td>\n",
       "      <td>0.346627</td>\n",
       "      <td>NaN</td>\n",
       "      <td>NaN</td>\n",
       "      <td>NaN</td>\n",
       "      <td>NaN</td>\n",
       "      <td>NaN</td>\n",
       "      <td>NaN</td>\n",
       "    </tr>\n",
       "  </tbody>\n",
       "</table>\n",
       "</div>"
      ],
      "text/plain": [
       "    Age  Subscription  Unnamed: 2  Unnamed: 3  Unnamed: 4  Unnamed: 5  \\\n",
       "0    62             1     -0.6742    0.509564    0.337557         NaN   \n",
       "1    18             0     -0.8106    0.444591    0.307763         NaN   \n",
       "2    40             0     -0.7424    0.475970    0.322480         NaN   \n",
       "3    51             1     -0.7083    0.492481    0.329975         NaN   \n",
       "4    37             1     -0.7517    0.471564    0.320451         NaN   \n",
       "5    47             1     -0.7207    0.486412    0.327239         NaN   \n",
       "6    32             0     -0.7672    0.464311    0.317085         NaN   \n",
       "7    49             1     -0.7145    0.489437    0.328605         NaN   \n",
       "8    55             1     -0.6959    0.498625    0.332722         NaN   \n",
       "9    52             1     -0.7052    0.494010    0.330660         NaN   \n",
       "10   52             1     -0.7052    0.494010    0.330660         NaN   \n",
       "11   33             1     -0.7641    0.465753    0.317757         NaN   \n",
       "12   41             0     -0.7393    0.477448    0.323157         NaN   \n",
       "13   44             0     -0.7300    0.481909    0.325195         NaN   \n",
       "14   51             1     -0.7083    0.492481    0.329975         NaN   \n",
       "15   52             1     -0.7052    0.494010    0.330660         NaN   \n",
       "16   36             0     -0.7548    0.470105    0.319776         NaN   \n",
       "17   35             0     -0.7579    0.468650    0.319102         NaN   \n",
       "18   30             0     -0.7734    0.461441    0.315744         NaN   \n",
       "19   39             0     -0.7455    0.474497    0.321803         NaN   \n",
       "20    1             1     -0.8633    0.421768    0.296650         NaN   \n",
       "21   75             0     -0.6339    0.530519    0.346627         NaN   \n",
       "\n",
       "    Unnamed: 6  Unnamed: 7  Unnamed: 8 Unnamed: 9  Unnamed: 10  \n",
       "0          NaN         NaN         NaN        NaN          NaN  \n",
       "1          NaN         NaN         NaN        NaN          NaN  \n",
       "2          NaN         NaN         NaN        NaN          NaN  \n",
       "3          NaN         NaN         NaN        NaN          NaN  \n",
       "4          NaN         NaN         NaN        NaN          NaN  \n",
       "5          NaN         NaN         NaN        NaN          NaN  \n",
       "6          NaN         NaN         NaN        NaN          NaN  \n",
       "7          NaN         NaN         NaN        NaN          NaN  \n",
       "8          NaN         NaN         NaN        NaN          NaN  \n",
       "9          NaN         NaN         NaN        NaN          NaN  \n",
       "10         NaN         NaN         NaN        NaN          NaN  \n",
       "11         NaN         NaN         NaN        NaN          NaN  \n",
       "12         NaN         NaN         NaN        NaN          NaN  \n",
       "13         NaN         NaN         NaN        NaN          NaN  \n",
       "14         NaN         NaN         NaN        NaN          NaN  \n",
       "15         NaN         NaN         NaN        NaN          NaN  \n",
       "16         NaN         NaN         NaN        NaN          NaN  \n",
       "17         NaN         NaN         NaN      Slope       0.0031  \n",
       "18         NaN         NaN         NaN  Intercept      -0.8664  \n",
       "19         NaN         NaN         NaN        NaN          NaN  \n",
       "20         NaN         NaN         NaN        NaN          NaN  \n",
       "21         NaN         NaN         NaN        NaN          NaN  "
      ]
     },
     "execution_count": 21,
     "metadata": {},
     "output_type": "execute_result"
    }
   ],
   "source": [
    "df.head(22)"
   ]
  },
  {
   "cell_type": "code",
   "execution_count": 22,
   "id": "minus-lancaster",
   "metadata": {},
   "outputs": [],
   "source": [
    "df=df[['Age', 'Subscription']]"
   ]
  },
  {
   "cell_type": "code",
   "execution_count": 23,
   "id": "recovered-greene",
   "metadata": {},
   "outputs": [],
   "source": [
    "X=df['Age']"
   ]
  },
  {
   "cell_type": "code",
   "execution_count": 24,
   "id": "endangered-puzzle",
   "metadata": {},
   "outputs": [],
   "source": [
    "Y=df['Subscription']"
   ]
  },
  {
   "cell_type": "code",
   "execution_count": 25,
   "id": "numerical-compound",
   "metadata": {},
   "outputs": [
    {
     "data": {
      "text/plain": [
       "0      62\n",
       "1      18\n",
       "2      40\n",
       "3      51\n",
       "4      37\n",
       "5      47\n",
       "6      32\n",
       "7      49\n",
       "8      55\n",
       "9      52\n",
       "10     52\n",
       "11     33\n",
       "12     41\n",
       "13     44\n",
       "14     51\n",
       "15     52\n",
       "16     36\n",
       "17     35\n",
       "18     30\n",
       "19     39\n",
       "20      1\n",
       "21     75\n",
       "22    100\n",
       "Name: Age, dtype: int64"
      ]
     },
     "execution_count": 25,
     "metadata": {},
     "output_type": "execute_result"
    }
   ],
   "source": [
    "X"
   ]
  },
  {
   "cell_type": "code",
   "execution_count": 26,
   "id": "suburban-surfing",
   "metadata": {},
   "outputs": [],
   "source": [
    "x_train,x_test,y_train,y_test=train_test_split(X,Y,test_size=0.3,random_state=100)"
   ]
  },
  {
   "cell_type": "code",
   "execution_count": 27,
   "id": "protected-division",
   "metadata": {},
   "outputs": [
    {
     "data": {
      "text/plain": [
       "21     75\n",
       "4      37\n",
       "22    100\n",
       "0      62\n",
       "1      18\n",
       "13     44\n",
       "14     51\n",
       "18     30\n",
       "5      47\n",
       "2      40\n",
       "10     52\n",
       "16     36\n",
       "15     52\n",
       "7      49\n",
       "3      51\n",
       "8      55\n",
       "Name: Age, dtype: int64"
      ]
     },
     "execution_count": 27,
     "metadata": {},
     "output_type": "execute_result"
    }
   ],
   "source": [
    "x_train\n"
   ]
  },
  {
   "cell_type": "code",
   "execution_count": 29,
   "id": "introductory-roots",
   "metadata": {},
   "outputs": [],
   "source": [
    "lr= LogisticRegression()"
   ]
  },
  {
   "cell_type": "code",
   "execution_count": 31,
   "id": "alternative-elevation",
   "metadata": {},
   "outputs": [],
   "source": [
    "x_train_reshape=np.array(x_train).reshape(-1,1)"
   ]
  },
  {
   "cell_type": "code",
   "execution_count": 35,
   "id": "interesting-hostel",
   "metadata": {},
   "outputs": [],
   "source": [
    "y_train_reshape=np.array(y_train).reshape(-1,1)\n",
    "x_test_reshape=np.array(x_test).reshape(-1,1)"
   ]
  },
  {
   "cell_type": "code",
   "execution_count": 33,
   "id": "failing-temperature",
   "metadata": {},
   "outputs": [
    {
     "name": "stderr",
     "output_type": "stream",
     "text": [
      "D:\\Anaconda\\lib\\site-packages\\sklearn\\utils\\validation.py:73: DataConversionWarning: A column-vector y was passed when a 1d array was expected. Please change the shape of y to (n_samples, ), for example using ravel().\n",
      "  return f(**kwargs)\n"
     ]
    },
    {
     "data": {
      "text/plain": [
       "LogisticRegression()"
      ]
     },
     "execution_count": 33,
     "metadata": {},
     "output_type": "execute_result"
    }
   ],
   "source": [
    "lr.fit(x_train_reshape,y_train_reshape)"
   ]
  },
  {
   "cell_type": "code",
   "execution_count": 36,
   "id": "fundamental-raleigh",
   "metadata": {},
   "outputs": [],
   "source": [
    "pred=lr.predict(x_test_reshape)"
   ]
  },
  {
   "cell_type": "code",
   "execution_count": 40,
   "id": "considered-plain",
   "metadata": {},
   "outputs": [
    {
     "name": "stdout",
     "output_type": "stream",
     "text": [
      "Accuracy 0.42857142857142855\n"
     ]
    }
   ],
   "source": [
    "print('Accuracy',accuracy_score(y_test,pred))"
   ]
  },
  {
   "cell_type": "code",
   "execution_count": 41,
   "id": "cloudy-closer",
   "metadata": {},
   "outputs": [
    {
     "name": "stdout",
     "output_type": "stream",
     "text": [
      "Confusion_matrix [[0 4]\n",
      " [0 3]]\n"
     ]
    }
   ],
   "source": [
    "print('Confusion_matrix',confusion_matrix(y_test,pred))"
   ]
  },
  {
   "cell_type": "code",
   "execution_count": 42,
   "id": "saving-religious",
   "metadata": {},
   "outputs": [
    {
     "name": "stdout",
     "output_type": "stream",
     "text": [
      "precision 0.42857142857142855\n"
     ]
    }
   ],
   "source": [
    "print('precision',precision_score(y_test,pred))"
   ]
  },
  {
   "cell_type": "code",
   "execution_count": 43,
   "id": "primary-bottle",
   "metadata": {},
   "outputs": [
    {
     "name": "stdout",
     "output_type": "stream",
     "text": [
      "recall 1.0\n"
     ]
    }
   ],
   "source": [
    "print('recall',recall_score(y_test,pred))"
   ]
  },
  {
   "cell_type": "code",
   "execution_count": 48,
   "id": "direct-blowing",
   "metadata": {},
   "outputs": [
    {
     "name": "stdout",
     "output_type": "stream",
     "text": [
      "Optimization terminated successfully.\n",
      "         Current function value: 0.692066\n",
      "         Iterations 3\n"
     ]
    }
   ],
   "source": [
    "result =sm.Logit(Y,X).fit()"
   ]
  },
  {
   "cell_type": "code",
   "execution_count": 49,
   "id": "auburn-category",
   "metadata": {},
   "outputs": [
    {
     "data": {
      "text/html": [
       "<table class=\"simpletable\">\n",
       "<caption>Logit Regression Results</caption>\n",
       "<tr>\n",
       "  <th>Dep. Variable:</th>     <td>Subscription</td>   <th>  No. Observations:  </th>  <td>    23</td>  \n",
       "</tr>\n",
       "<tr>\n",
       "  <th>Model:</th>                 <td>Logit</td>      <th>  Df Residuals:      </th>  <td>    22</td>  \n",
       "</tr>\n",
       "<tr>\n",
       "  <th>Method:</th>                 <td>MLE</td>       <th>  Df Model:          </th>  <td>     0</td>  \n",
       "</tr>\n",
       "<tr>\n",
       "  <th>Date:</th>            <td>Wed, 10 Mar 2021</td> <th>  Pseudo R-squ.:     </th> <td>0.0001966</td>\n",
       "</tr>\n",
       "<tr>\n",
       "  <th>Time:</th>                <td>15:20:51</td>     <th>  Log-Likelihood:    </th> <td> -15.918</td> \n",
       "</tr>\n",
       "<tr>\n",
       "  <th>converged:</th>             <td>True</td>       <th>  LL-Null:           </th> <td> -15.921</td> \n",
       "</tr>\n",
       "<tr>\n",
       "  <th>Covariance Type:</th>     <td>nonrobust</td>    <th>  LLR p-value:       </th>  <td>   nan</td>  \n",
       "</tr>\n",
       "</table>\n",
       "<table class=\"simpletable\">\n",
       "<tr>\n",
       "   <td></td>      <th>coef</th>     <th>std err</th>      <th>z</th>      <th>P>|z|</th>  <th>[0.025</th>    <th>0.975]</th>  \n",
       "</tr>\n",
       "<tr>\n",
       "  <th>Age</th> <td>    0.0019</td> <td>    0.009</td> <td>    0.223</td> <td> 0.824</td> <td>   -0.015</td> <td>    0.019</td>\n",
       "</tr>\n",
       "</table>"
      ],
      "text/plain": [
       "<class 'statsmodels.iolib.summary.Summary'>\n",
       "\"\"\"\n",
       "                           Logit Regression Results                           \n",
       "==============================================================================\n",
       "Dep. Variable:           Subscription   No. Observations:                   23\n",
       "Model:                          Logit   Df Residuals:                       22\n",
       "Method:                           MLE   Df Model:                            0\n",
       "Date:                Wed, 10 Mar 2021   Pseudo R-squ.:               0.0001966\n",
       "Time:                        15:20:51   Log-Likelihood:                -15.918\n",
       "converged:                       True   LL-Null:                       -15.921\n",
       "Covariance Type:            nonrobust   LLR p-value:                       nan\n",
       "==============================================================================\n",
       "                 coef    std err          z      P>|z|      [0.025      0.975]\n",
       "------------------------------------------------------------------------------\n",
       "Age            0.0019      0.009      0.223      0.824      -0.015       0.019\n",
       "==============================================================================\n",
       "\"\"\""
      ]
     },
     "execution_count": 49,
     "metadata": {},
     "output_type": "execute_result"
    }
   ],
   "source": [
    "result.summary()"
   ]
  },
  {
   "cell_type": "code",
   "execution_count": 50,
   "id": "persistent-feelings",
   "metadata": {},
   "outputs": [],
   "source": [
    "x_const=sm.add_constant(X)"
   ]
  },
  {
   "cell_type": "code",
   "execution_count": 51,
   "id": "figured-adaptation",
   "metadata": {},
   "outputs": [
    {
     "name": "stdout",
     "output_type": "stream",
     "text": [
      "Optimization terminated successfully.\n",
      "         Current function value: 0.692065\n",
      "         Iterations 3\n"
     ]
    }
   ],
   "source": [
    "result2=sm.Logit(Y,x_const).fit()"
   ]
  },
  {
   "cell_type": "code",
   "execution_count": 52,
   "id": "excess-examination",
   "metadata": {},
   "outputs": [
    {
     "data": {
      "text/html": [
       "<table class=\"simpletable\">\n",
       "<caption>Logit Regression Results</caption>\n",
       "<tr>\n",
       "  <th>Dep. Variable:</th>     <td>Subscription</td>   <th>  No. Observations:  </th>  <td>    23</td>  \n",
       "</tr>\n",
       "<tr>\n",
       "  <th>Model:</th>                 <td>Logit</td>      <th>  Df Residuals:      </th>  <td>    21</td>  \n",
       "</tr>\n",
       "<tr>\n",
       "  <th>Method:</th>                 <td>MLE</td>       <th>  Df Model:          </th>  <td>     1</td>  \n",
       "</tr>\n",
       "<tr>\n",
       "  <th>Date:</th>            <td>Wed, 10 Mar 2021</td> <th>  Pseudo R-squ.:     </th> <td>0.0001981</td>\n",
       "</tr>\n",
       "<tr>\n",
       "  <th>Time:</th>                <td>15:22:18</td>     <th>  Log-Likelihood:    </th> <td> -15.917</td> \n",
       "</tr>\n",
       "<tr>\n",
       "  <th>converged:</th>             <td>True</td>       <th>  LL-Null:           </th> <td> -15.921</td> \n",
       "</tr>\n",
       "<tr>\n",
       "  <th>Covariance Type:</th>     <td>nonrobust</td>    <th>  LLR p-value:       </th>  <td>0.9367</td>  \n",
       "</tr>\n",
       "</table>\n",
       "<table class=\"simpletable\">\n",
       "<tr>\n",
       "    <td></td>       <th>coef</th>     <th>std err</th>      <th>z</th>      <th>P>|z|</th>  <th>[0.025</th>    <th>0.975]</th>  \n",
       "</tr>\n",
       "<tr>\n",
       "  <th>const</th> <td>    0.0076</td> <td>    1.083</td> <td>    0.007</td> <td> 0.994</td> <td>   -2.116</td> <td>    2.131</td>\n",
       "</tr>\n",
       "<tr>\n",
       "  <th>Age</th>   <td>    0.0018</td> <td>    0.022</td> <td>    0.079</td> <td> 0.937</td> <td>   -0.042</td> <td>    0.045</td>\n",
       "</tr>\n",
       "</table>"
      ],
      "text/plain": [
       "<class 'statsmodels.iolib.summary.Summary'>\n",
       "\"\"\"\n",
       "                           Logit Regression Results                           \n",
       "==============================================================================\n",
       "Dep. Variable:           Subscription   No. Observations:                   23\n",
       "Model:                          Logit   Df Residuals:                       21\n",
       "Method:                           MLE   Df Model:                            1\n",
       "Date:                Wed, 10 Mar 2021   Pseudo R-squ.:               0.0001981\n",
       "Time:                        15:22:18   Log-Likelihood:                -15.917\n",
       "converged:                       True   LL-Null:                       -15.921\n",
       "Covariance Type:            nonrobust   LLR p-value:                    0.9367\n",
       "==============================================================================\n",
       "                 coef    std err          z      P>|z|      [0.025      0.975]\n",
       "------------------------------------------------------------------------------\n",
       "const          0.0076      1.083      0.007      0.994      -2.116       2.131\n",
       "Age            0.0018      0.022      0.079      0.937      -0.042       0.045\n",
       "==============================================================================\n",
       "\"\"\""
      ]
     },
     "execution_count": 52,
     "metadata": {},
     "output_type": "execute_result"
    }
   ],
   "source": [
    "result2.summary()"
   ]
  },
  {
   "cell_type": "code",
   "execution_count": null,
   "id": "previous-integrity",
   "metadata": {},
   "outputs": [],
   "source": []
  }
 ],
 "metadata": {
  "kernelspec": {
   "display_name": "Python 3",
   "language": "python",
   "name": "python3"
  },
  "language_info": {
   "codemirror_mode": {
    "name": "ipython",
    "version": 3
   },
   "file_extension": ".py",
   "mimetype": "text/x-python",
   "name": "python",
   "nbconvert_exporter": "python",
   "pygments_lexer": "ipython3",
   "version": "3.7.7"
  },
  "toc": {
   "base_numbering": 1,
   "nav_menu": {},
   "number_sections": true,
   "sideBar": true,
   "skip_h1_title": false,
   "title_cell": "Table of Contents",
   "title_sidebar": "Contents",
   "toc_cell": false,
   "toc_position": {},
   "toc_section_display": true,
   "toc_window_display": false
  }
 },
 "nbformat": 4,
 "nbformat_minor": 5
}
